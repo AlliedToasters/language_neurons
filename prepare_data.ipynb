{
 "cells": [
  {
   "cell_type": "code",
   "execution_count": 1,
   "metadata": {},
   "outputs": [
    {
     "data": {
      "text/plain": [
       "'\\n!wget -P ./data http://www.statmt.org/europarl/v7/europarl.tgz\\n!tar -xvzf ./data/europarl.tgz -C ./data/\\n!pip install pandas\\n'"
      ]
     },
     "execution_count": 1,
     "metadata": {},
     "output_type": "execute_result"
    }
   ],
   "source": [
    "#download and unzip data\n",
    "'''\n",
    "!wget -P ./data http://www.statmt.org/europarl/v7/europarl.tgz\n",
    "!tar -xvzf ./data/europarl.tgz -C ./data/\n",
    "!pip install pandas\n",
    "'''"
   ]
  },
  {
   "cell_type": "code",
   "execution_count": 53,
   "metadata": {},
   "outputs": [],
   "source": [
    "import pandas as pd\n",
    "import os\n",
    "import re\n",
    "import sys"
   ]
  },
  {
   "cell_type": "code",
   "execution_count": 3,
   "metadata": {},
   "outputs": [
    {
     "name": "stdout",
     "output_type": "stream",
     "text": [
      "adding language bg...\n",
      "adding language cs...\n",
      "adding language da...\n",
      "adding language de...\n",
      "adding language el...\n",
      "adding language en...\n",
      "adding language es...\n",
      "adding language et...\n",
      "adding language fi...\n",
      "adding language fr...\n",
      "adding language hu...\n",
      "adding language it...\n",
      "adding language lt...\n",
      "adding language lv...\n",
      "adding language nl...\n",
      "adding language pl...\n",
      "adding language pt...\n",
      "adding language ro...\n",
      "adding language sk...\n",
      "adding language sl...\n",
      "adding language sv...\n"
     ]
    }
   ],
   "source": [
    "cols = ['lang', 'path']\n",
    "df = pd.DataFrame(columns=cols)\n",
    "\n",
    "languages = os.popen('ls ./data/txt/').read().split('\\n')[:-1]\n",
    "for lang in languages:\n",
    "    print('adding language {}...'.format(lang))\n",
    "    lang_frame = pd.DataFrame(columns=cols)\n",
    "    txts = os.popen('ls ./data/txt/{}/'.format(lang)).read().split('\\n')[:-1]\n",
    "    paths = ['./data/txt/{}/{}'.format(lang, txt) for txt in txts]\n",
    "    lang_frame['path'] = paths\n",
    "    lang_frame['lang'] = lang\n",
    "    lang_frame.index = range(len(df), len(df)+len(lang_frame))\n",
    "    df = pd.concat([df, lang_frame], axis=0)"
   ]
  },
  {
   "cell_type": "code",
   "execution_count": 44,
   "metadata": {},
   "outputs": [],
   "source": [
    "def update_progress(progress):\n",
    "    \"\"\"Displays or updates a console progress bar\n",
    "    Accepts a float between 0 and 1. Any int will be converted to a float.\n",
    "    A value under 0 represents a 'halt'.\n",
    "    A value at 1 or bigger represents 100%\n",
    "    \"\"\"\n",
    "    barLength = 25 # Modify this to change the length of the progress bar\n",
    "    status = \"\"\n",
    "    if isinstance(progress, int):\n",
    "        progress = float(progress)\n",
    "    if not isinstance(progress, float):\n",
    "        progress = 0\n",
    "        status = \"error: progress var must be float\\r\\n\"\n",
    "    if progress < 0:\n",
    "        progress = 0\n",
    "        status = \"Halt...\\r\\n\"\n",
    "    if progress >= 1:\n",
    "        progress = 1\n",
    "        status = \"Done...\\r\\n\"\n",
    "    block = int(round(barLength*progress))\n",
    "    text = \"\\rProgress: [{0}] {1}% {2}\".format( \"#\"*block + \"-\"*(barLength-block), round(progress*100, 3), status)\n",
    "    sys.stdout.write(text)\n",
    "    sys.stdout.flush()\n",
    "\n",
    "def get_text(idx, df=df):\n",
    "    \"\"\"Takes idx and df and returns text.\"\"\"\n",
    "    path = df.loc[idx].path\n",
    "    with open(path, 'r') as f:\n",
    "        result = f.read()\n",
    "    return result\n",
    "\n",
    "def remove_tags(input_string):\n",
    "    result = input_string\n",
    "    tag = re.compile(r'<[^<]*>')\n",
    "    while tag.search(result):\n",
    "        match = tag.search(result)\n",
    "        strt = match.span()[0]\n",
    "        stp = match.span()[1]\n",
    "        result = result[:strt] + result[stp:]\n",
    "    return result"
   ]
  },
  {
   "cell_type": "code",
   "execution_count": null,
   "metadata": {},
   "outputs": [
    {
     "name": "stdout",
     "output_type": "stream",
     "text": [
      "documents in training set:  177718\n",
      "documents in validation set:  9354\n",
      "creating train file...\n",
      "Progress: [################---------] 64.315% "
     ]
    }
   ],
   "source": [
    "#withold some fraction from every class for validation.\n",
    "test_prop = .05\n",
    "test = pd.DataFrame(columns=cols)\n",
    "for lang in df.lang.unique():\n",
    "    samp = df[df.lang == lang].sample(frac=test_prop)\n",
    "    test = pd.concat([test, samp])\n",
    "    \n",
    "train = df[~df.index.isin(test.index)]\n",
    "print('documents in training set: ', len(train))\n",
    "print('documents in validation set: ', len(test))\n",
    "\n",
    "def concat_to_file(idx, df, path):\n",
    "    txt = get_text(idx, df=df)\n",
    "    txt = remove_tags(txt)\n",
    "    with open(path, 'a+') as f:\n",
    "        f.write(txt)\n",
    "\n",
    "train_path = './data/train.txt'\n",
    "val_path = './data/val.txt'\n",
    "os.system('rm {} {}'.format(train_path, val_path))\n",
    "\n",
    "cnt = 0\n",
    "print('creating train file...')\n",
    "shuffle = train.sample(frac=1)\n",
    "for i, row in shuffle.iterrows():\n",
    "    try:\n",
    "        concat_to_file(i, train, train_path)\n",
    "    except UnicodeDecodeError:\n",
    "        pass\n",
    "    cnt += 1\n",
    "    prog = cnt/len(train)\n",
    "    update_progress(prog)\n",
    "print('train file saved at: ', train_path)\n",
    "\n",
    "cnt = 0\n",
    "print('creating validation file...')\n",
    "shuffle = test.sample(frac=1)\n",
    "for i, row in shuffle.iterrows():\n",
    "    try:\n",
    "        concat_to_file(i, test, val_path)\n",
    "    except UnicodeDecodeError:\n",
    "        pass\n",
    "    cnt += 1\n",
    "    prog = cnt/len(test)\n",
    "    update_progress(prog)\n",
    "    \n",
    "print('validation file saved at: ', val_path)"
   ]
  }
 ],
 "metadata": {
  "kernelspec": {
   "display_name": "Python [conda env:ptrch]",
   "language": "python",
   "name": "conda-env-ptrch-py"
  },
  "language_info": {
   "codemirror_mode": {
    "name": "ipython",
    "version": 3
   },
   "file_extension": ".py",
   "mimetype": "text/x-python",
   "name": "python",
   "nbconvert_exporter": "python",
   "pygments_lexer": "ipython3",
   "version": "3.6.5"
  }
 },
 "nbformat": 4,
 "nbformat_minor": 2
}
